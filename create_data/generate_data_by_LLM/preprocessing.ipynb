{
  "cells": [
    {
      "cell_type": "code",
      "execution_count": null,
      "id": "2624ff55",
      "metadata": {
        "id": "2624ff55",
        "outputId": "ee7b0f99-95d4-4bfc-eab6-95a0eb86ab40"
      },
      "outputs": [
        {
          "name": "stderr",
          "output_type": "stream",
          "text": [
            "<>:5: SyntaxWarning: invalid escape sequence '\\I'\n",
            "<>:5: SyntaxWarning: invalid escape sequence '\\I'\n",
            "C:\\Users\\Acer\\AppData\\Local\\Temp\\ipykernel_23948\\1951241217.py:5: SyntaxWarning: invalid escape sequence '\\I'\n",
            "  input_folder = 'D:\\IE403\\LLM'  # Đổi thành đường dẫn thực tế\n"
          ]
        },
        {
          "name": "stdout",
          "output_type": "stream",
          "text": [
            "✅ Đã gộp 10355 mục từ các file JSON thành công vào './merged_data.json'\n"
          ]
        }
      ],
      "source": [
        "import os\n",
        "import json\n",
        "\n",
        "# Đường dẫn đến thư mục chứa các file JSON\n",
        "input_folder = 'D:\\IE403\\LLM'  # Đổi thành đường dẫn thực tế\n",
        "output_file = './merged_data.json'\n",
        "\n",
        "# Khởi tạo danh sách để chứa toàn bộ dữ liệu\n",
        "all_data = []\n",
        "\n",
        "# Lặp qua tất cả các file JSON trong thư mục\n",
        "for filename in os.listdir(input_folder):\n",
        "    if filename.endswith('.json'):\n",
        "        filepath = os.path.join(input_folder, filename)\n",
        "        with open(filepath, 'r', encoding='utf-8') as f:\n",
        "            data = json.load(f)\n",
        "            if isinstance(data, list):\n",
        "                all_data.extend(data)  # Gộp danh sách\n",
        "            else:\n",
        "                print(f\"[⚠️] File {filename} không phải danh sách JSON.\")\n",
        "\n",
        "# Ghi dữ liệu đã gộp ra file mới\n",
        "with open(output_file, 'w', encoding='utf-8') as f:\n",
        "    json.dump(all_data, f, ensure_ascii=False, indent=2)\n",
        "\n",
        "print(f\"✅ Đã gộp {len(all_data)} mục từ các file JSON thành công vào '{output_file}'\")\n"
      ]
    },
    {
      "cell_type": "code",
      "execution_count": null,
      "id": "d845cb6b",
      "metadata": {
        "id": "d845cb6b",
        "outputId": "e003d68a-9f43-47c2-8b4f-cf6f144ebe09"
      },
      "outputs": [
        {
          "name": "stdout",
          "output_type": "stream",
          "text": [
            "Số mẫu trong file JSON: 10355\n"
          ]
        },
        {
          "name": "stderr",
          "output_type": "stream",
          "text": [
            "<>:1: SyntaxWarning: invalid escape sequence '\\I'\n",
            "<>:1: SyntaxWarning: invalid escape sequence '\\I'\n",
            "C:\\Users\\Acer\\AppData\\Local\\Temp\\ipykernel_23948\\1016505697.py:1: SyntaxWarning: invalid escape sequence '\\I'\n",
            "  file_path = 'D:\\IE403\\LLM\\merged_data.json'\n"
          ]
        }
      ],
      "source": [
        "file_path = 'D:\\IE403\\LLM\\merged_data.json'\n",
        "\n",
        "with open(file_path, 'r', encoding='utf-8') as f:\n",
        "    data = json.load(f)\n",
        "\n",
        "print(f'Số mẫu trong file JSON: {len(data)}')\n"
      ]
    },
    {
      "cell_type": "code",
      "execution_count": null,
      "id": "18a839e8",
      "metadata": {
        "id": "18a839e8"
      },
      "outputs": [],
      "source": [
        "import pandas as pd\n",
        "import re"
      ]
    },
    {
      "cell_type": "code",
      "execution_count": null,
      "id": "db8493fd",
      "metadata": {
        "id": "db8493fd"
      },
      "outputs": [],
      "source": [
        "input_path = \"merged_data.json\"  # thay bằng đường dẫn thật nếu cần\n",
        "output_path = \"cleaned_data.json\"\n",
        "# 1. Load dữ liệu từ JSON\n",
        "with open(input_path, \"r\", encoding=\"utf-8\") as f:\n",
        "    data = json.load(f)\n",
        "# 2. Đưa vào DataFrame để xử lý\n",
        "df = pd.DataFrame(data)"
      ]
    },
    {
      "cell_type": "code",
      "execution_count": null,
      "id": "5488ec2e",
      "metadata": {
        "id": "5488ec2e"
      },
      "outputs": [],
      "source": [
        "# 3. Xóa các dòng bị thiếu thông tin\n",
        "df = df.dropna(subset=[\"claim\", \"evidence\", \"label\"])"
      ]
    },
    {
      "cell_type": "code",
      "execution_count": null,
      "id": "4e61e1af",
      "metadata": {
        "id": "4e61e1af"
      },
      "outputs": [],
      "source": [
        "# 4. Xóa emoji để làm sạch văn bản\n",
        "def remove_emoji(text):\n",
        "    emoji_pattern = re.compile(\n",
        "        \"[\"\n",
        "        \"\\U0001F600-\\U0001F64F\"  # emoticons\n",
        "        \"\\U0001F300-\\U0001F5FF\"  # symbols & pictographs\n",
        "        \"\\U0001F680-\\U0001F6FF\"  # transport & map symbols\n",
        "        \"\\U0001F1E0-\\U0001F1FF\"  # flags\n",
        "        \"\\U00002700-\\U000027BF\"\n",
        "        \"\\U000024C2-\\U0001F251\"\n",
        "        \"]+\", flags=re.UNICODE\n",
        "    )\n",
        "    return emoji_pattern.sub(r'', text)\n"
      ]
    },
    {
      "cell_type": "code",
      "execution_count": null,
      "id": "ab612100",
      "metadata": {
        "id": "ab612100"
      },
      "outputs": [],
      "source": [
        "# 5. Thay thế từ viết tắt/teencode bằng từ chuẩn\n",
        "teencode_dict = {\n",
        "    \"k\": \"không\",\n",
        "    \"ko\": \"không\",\n",
        "    \"hok\": \"không\",\n",
        "    \"j\": \"gì\",\n",
        "    \"mk\": \"mình\",\n",
        "    \"cx\": \"cũng\",\n",
        "    \"dc\": \"được\",\n",
        "    \"bt\": \"bình thường\",\n",
        "    \"vl\": \"vãi\",\n",
        "    \"vk\": \"vợ\",\n",
        "    \"ck\": \"chồng\",\n",
        "    \"thik\": \"thích\",\n",
        "    \"z\": \"vậy\"\n",
        "}\n",
        "\n",
        "def replace_teencode(text):\n",
        "    for key, val in teencode_dict.items():\n",
        "        pattern = r'\\b' + re.escape(key) + r'\\b'\n",
        "        text = re.sub(pattern, val, text, flags=re.IGNORECASE)\n",
        "    return text\n"
      ]
    },
    {
      "cell_type": "code",
      "execution_count": null,
      "id": "e05f365f",
      "metadata": {
        "id": "e05f365f"
      },
      "outputs": [],
      "source": [
        "# 6. Rút gọn các ký tự lặp lại >2 lần\n",
        "def remove_repeated_chars(text):\n",
        "    return re.sub(r'(.)\\\\1{2,}', r'\\\\1', text)"
      ]
    },
    {
      "cell_type": "code",
      "execution_count": null,
      "id": "42264820",
      "metadata": {
        "id": "42264820"
      },
      "outputs": [],
      "source": [
        "# 7. Hàm tổng hợp tất cả bước xử lý văn bản\n",
        "def clean_text(text):\n",
        "    text = remove_emoji(text)\n",
        "    text = replace_teencode(text)\n",
        "    text = remove_repeated_chars(text)\n",
        "    text = text.replace(\"\\\\\", \"\").replace(\"\\n\", \" \").replace(\"\\t\", \" \")\n",
        "    text = re.sub(r\"\\s+\", \" \", text)\n",
        "    return text.strip(\" '\\\"\\u200b\")"
      ]
    },
    {
      "cell_type": "code",
      "execution_count": null,
      "id": "1ddbdcf7",
      "metadata": {
        "id": "1ddbdcf7"
      },
      "outputs": [],
      "source": [
        "# 8. Áp dụng làm sạch cho các cột văn bản\n",
        "df[\"claim\"] = df[\"claim\"].apply(clean_text)\n",
        "df[\"evidence\"] = df[\"evidence\"].apply(clean_text)"
      ]
    },
    {
      "cell_type": "code",
      "execution_count": null,
      "id": "70ff885b",
      "metadata": {
        "id": "70ff885b"
      },
      "outputs": [],
      "source": [
        "# 9. Xoá dòng bị trùng lặp hoàn toàn (same claim + evidence + label)\n",
        "df = df.drop_duplicates(subset=[\"claim\", \"evidence\", \"label\"])"
      ]
    },
    {
      "cell_type": "code",
      "execution_count": null,
      "id": "8407c0eb",
      "metadata": {
        "id": "8407c0eb",
        "outputId": "c83bf890-2bf4-4685-9fcf-b3808ecc1169"
      },
      "outputs": [
        {
          "name": "stdout",
          "output_type": "stream",
          "text": [
            "Đã xử lý xong dữ liệu. Kết quả lưu tại: cleaned_data.json\n",
            "Số dòng còn lại: 10079\n"
          ]
        }
      ],
      "source": [
        "# 10. Ghi lại dữ liệu đã xử lý vào file JSON mới\n",
        "df.to_json(output_path, force_ascii=False, orient=\"records\", indent=2)\n",
        "\n",
        "print(f\"Đã xử lý xong dữ liệu. Kết quả lưu tại: {output_path}\")\n",
        "print(f\"Số dòng còn lại: {len(df)}\")"
      ]
    }
  ],
  "metadata": {
    "kernelspec": {
      "display_name": "base",
      "language": "python",
      "name": "python3"
    },
    "language_info": {
      "codemirror_mode": {
        "name": "ipython",
        "version": 3
      },
      "file_extension": ".py",
      "mimetype": "text/x-python",
      "name": "python",
      "nbconvert_exporter": "python",
      "pygments_lexer": "ipython3",
      "version": "3.12.4"
    },
    "colab": {
      "provenance": []
    }
  },
  "nbformat": 4,
  "nbformat_minor": 5
}