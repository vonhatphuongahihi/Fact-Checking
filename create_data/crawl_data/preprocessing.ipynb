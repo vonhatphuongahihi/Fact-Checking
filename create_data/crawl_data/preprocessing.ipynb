{
  "nbformat": 4,
  "nbformat_minor": 0,
  "metadata": {
    "colab": {
      "provenance": []
    },
    "kernelspec": {
      "name": "python3",
      "display_name": "Python 3"
    },
    "language_info": {
      "name": "python"
    }
  },
  "cells": [
    {
      "cell_type": "markdown",
      "source": [
        "# Tải các thư viện cần thiết"
      ],
      "metadata": {
        "id": "J3CuvIWCmVXW"
      }
    },
    {
      "cell_type": "code",
      "execution_count": 18,
      "metadata": {
        "colab": {
          "base_uri": "https://localhost:8080/"
        },
        "id": "7hLuv_8VQhPf",
        "outputId": "806b05bd-f7d9-4076-ebf5-c3d2e6235532"
      },
      "outputs": [
        {
          "output_type": "stream",
          "name": "stdout",
          "text": [
            "Requirement already satisfied: torch in /usr/local/lib/python3.11/dist-packages (2.6.0+cu124)\n",
            "Requirement already satisfied: filelock in /usr/local/lib/python3.11/dist-packages (from torch) (3.18.0)\n",
            "Requirement already satisfied: typing-extensions>=4.10.0 in /usr/local/lib/python3.11/dist-packages (from torch) (4.13.2)\n",
            "Requirement already satisfied: networkx in /usr/local/lib/python3.11/dist-packages (from torch) (3.4.2)\n",
            "Requirement already satisfied: jinja2 in /usr/local/lib/python3.11/dist-packages (from torch) (3.1.6)\n",
            "Requirement already satisfied: fsspec in /usr/local/lib/python3.11/dist-packages (from torch) (2025.3.2)\n",
            "Requirement already satisfied: nvidia-cuda-nvrtc-cu12==12.4.127 in /usr/local/lib/python3.11/dist-packages (from torch) (12.4.127)\n",
            "Requirement already satisfied: nvidia-cuda-runtime-cu12==12.4.127 in /usr/local/lib/python3.11/dist-packages (from torch) (12.4.127)\n",
            "Requirement already satisfied: nvidia-cuda-cupti-cu12==12.4.127 in /usr/local/lib/python3.11/dist-packages (from torch) (12.4.127)\n",
            "Requirement already satisfied: nvidia-cudnn-cu12==9.1.0.70 in /usr/local/lib/python3.11/dist-packages (from torch) (9.1.0.70)\n",
            "Requirement already satisfied: nvidia-cublas-cu12==12.4.5.8 in /usr/local/lib/python3.11/dist-packages (from torch) (12.4.5.8)\n",
            "Requirement already satisfied: nvidia-cufft-cu12==11.2.1.3 in /usr/local/lib/python3.11/dist-packages (from torch) (11.2.1.3)\n",
            "Requirement already satisfied: nvidia-curand-cu12==10.3.5.147 in /usr/local/lib/python3.11/dist-packages (from torch) (10.3.5.147)\n",
            "Requirement already satisfied: nvidia-cusolver-cu12==11.6.1.9 in /usr/local/lib/python3.11/dist-packages (from torch) (11.6.1.9)\n",
            "Requirement already satisfied: nvidia-cusparse-cu12==12.3.1.170 in /usr/local/lib/python3.11/dist-packages (from torch) (12.3.1.170)\n",
            "Requirement already satisfied: nvidia-cusparselt-cu12==0.6.2 in /usr/local/lib/python3.11/dist-packages (from torch) (0.6.2)\n",
            "Requirement already satisfied: nvidia-nccl-cu12==2.21.5 in /usr/local/lib/python3.11/dist-packages (from torch) (2.21.5)\n",
            "Requirement already satisfied: nvidia-nvtx-cu12==12.4.127 in /usr/local/lib/python3.11/dist-packages (from torch) (12.4.127)\n",
            "Requirement already satisfied: nvidia-nvjitlink-cu12==12.4.127 in /usr/local/lib/python3.11/dist-packages (from torch) (12.4.127)\n",
            "Requirement already satisfied: triton==3.2.0 in /usr/local/lib/python3.11/dist-packages (from torch) (3.2.0)\n",
            "Requirement already satisfied: sympy==1.13.1 in /usr/local/lib/python3.11/dist-packages (from torch) (1.13.1)\n",
            "Requirement already satisfied: mpmath<1.4,>=1.1.0 in /usr/local/lib/python3.11/dist-packages (from sympy==1.13.1->torch) (1.3.0)\n",
            "Requirement already satisfied: MarkupSafe>=2.0 in /usr/local/lib/python3.11/dist-packages (from jinja2->torch) (3.0.2)\n"
          ]
        }
      ],
      "source": [
        "! pip install torch"
      ]
    },
    {
      "cell_type": "code",
      "source": [
        "!pip install nltk pyvi"
      ],
      "metadata": {
        "colab": {
          "base_uri": "https://localhost:8080/"
        },
        "id": "XygoHET7kexF",
        "outputId": "fa97ca43-fe4f-4058-baf9-865ead0c67f5"
      },
      "execution_count": 19,
      "outputs": [
        {
          "output_type": "stream",
          "name": "stdout",
          "text": [
            "Requirement already satisfied: nltk in /usr/local/lib/python3.11/dist-packages (3.9.1)\n",
            "Requirement already satisfied: pyvi in /usr/local/lib/python3.11/dist-packages (0.1.1)\n",
            "Requirement already satisfied: click in /usr/local/lib/python3.11/dist-packages (from nltk) (8.2.1)\n",
            "Requirement already satisfied: joblib in /usr/local/lib/python3.11/dist-packages (from nltk) (1.5.0)\n",
            "Requirement already satisfied: regex>=2021.8.3 in /usr/local/lib/python3.11/dist-packages (from nltk) (2024.11.6)\n",
            "Requirement already satisfied: tqdm in /usr/local/lib/python3.11/dist-packages (from nltk) (4.67.1)\n",
            "Requirement already satisfied: scikit-learn in /usr/local/lib/python3.11/dist-packages (from pyvi) (1.6.1)\n",
            "Requirement already satisfied: sklearn-crfsuite in /usr/local/lib/python3.11/dist-packages (from pyvi) (0.5.0)\n",
            "Requirement already satisfied: numpy>=1.19.5 in /usr/local/lib/python3.11/dist-packages (from scikit-learn->pyvi) (2.0.2)\n",
            "Requirement already satisfied: scipy>=1.6.0 in /usr/local/lib/python3.11/dist-packages (from scikit-learn->pyvi) (1.15.3)\n",
            "Requirement already satisfied: threadpoolctl>=3.1.0 in /usr/local/lib/python3.11/dist-packages (from scikit-learn->pyvi) (3.6.0)\n",
            "Requirement already satisfied: python-crfsuite>=0.9.7 in /usr/local/lib/python3.11/dist-packages (from sklearn-crfsuite->pyvi) (0.9.11)\n",
            "Requirement already satisfied: tabulate>=0.4.2 in /usr/local/lib/python3.11/dist-packages (from sklearn-crfsuite->pyvi) (0.9.0)\n"
          ]
        }
      ]
    },
    {
      "cell_type": "code",
      "source": [
        "!pip install -q spacy emoji py_vncorenlp\n",
        "\n",
        "!python -m spacy download en_core_web_sm"
      ],
      "metadata": {
        "colab": {
          "base_uri": "https://localhost:8080/"
        },
        "id": "6yzXUQ8Kmcfe",
        "outputId": "bc77b1c2-724b-4bba-f9a4-b4583498a52d"
      },
      "execution_count": 20,
      "outputs": [
        {
          "output_type": "stream",
          "name": "stdout",
          "text": [
            "Collecting en-core-web-sm==3.8.0\n",
            "  Downloading https://github.com/explosion/spacy-models/releases/download/en_core_web_sm-3.8.0/en_core_web_sm-3.8.0-py3-none-any.whl (12.8 MB)\n",
            "\u001b[2K     \u001b[90m━━━━━━━━━━━━━━━━━━━━━━━━━━━━━━━━━━━━━━━━\u001b[0m \u001b[32m12.8/12.8 MB\u001b[0m \u001b[31m13.6 MB/s\u001b[0m eta \u001b[36m0:00:00\u001b[0m\n",
            "\u001b[?25h\u001b[38;5;2m✔ Download and installation successful\u001b[0m\n",
            "You can now load the package via spacy.load('en_core_web_sm')\n",
            "\u001b[38;5;3m⚠ Restart to reload dependencies\u001b[0m\n",
            "If you are in a Jupyter or Colab notebook, you may need to restart Python in\n",
            "order to load all the package's dependencies. You can do this by selecting the\n",
            "'Restart kernel' or 'Restart runtime' option.\n"
          ]
        }
      ]
    },
    {
      "cell_type": "markdown",
      "source": [
        "# Chuyển file data crawl được dưới dạng txt sang dạng json"
      ],
      "metadata": {
        "id": "PGFhCUZdmQl6"
      }
    },
    {
      "cell_type": "code",
      "source": [
        "# Upload file data.txt chứa mẫu dữ liệu crawl được\n",
        "from google.colab import files\n",
        "uploaded = files.upload()\n"
      ],
      "metadata": {
        "colab": {
          "base_uri": "https://localhost:8080/",
          "height": 71
        },
        "id": "5MEFSrAJSq78",
        "outputId": "03b962ed-3912-4971-9768-7c630774b503"
      },
      "execution_count": 5,
      "outputs": [
        {
          "output_type": "display_data",
          "data": {
            "text/plain": [
              "<IPython.core.display.HTML object>"
            ],
            "text/html": [
              "\n",
              "     <input type=\"file\" id=\"files-303b81f1-2ebb-455b-843f-557e00156ef6\" name=\"files[]\" multiple disabled\n",
              "        style=\"border:none\" />\n",
              "     <output id=\"result-303b81f1-2ebb-455b-843f-557e00156ef6\">\n",
              "      Upload widget is only available when the cell has been executed in the\n",
              "      current browser session. Please rerun this cell to enable.\n",
              "      </output>\n",
              "      <script>// Copyright 2017 Google LLC\n",
              "//\n",
              "// Licensed under the Apache License, Version 2.0 (the \"License\");\n",
              "// you may not use this file except in compliance with the License.\n",
              "// You may obtain a copy of the License at\n",
              "//\n",
              "//      http://www.apache.org/licenses/LICENSE-2.0\n",
              "//\n",
              "// Unless required by applicable law or agreed to in writing, software\n",
              "// distributed under the License is distributed on an \"AS IS\" BASIS,\n",
              "// WITHOUT WARRANTIES OR CONDITIONS OF ANY KIND, either express or implied.\n",
              "// See the License for the specific language governing permissions and\n",
              "// limitations under the License.\n",
              "\n",
              "/**\n",
              " * @fileoverview Helpers for google.colab Python module.\n",
              " */\n",
              "(function(scope) {\n",
              "function span(text, styleAttributes = {}) {\n",
              "  const element = document.createElement('span');\n",
              "  element.textContent = text;\n",
              "  for (const key of Object.keys(styleAttributes)) {\n",
              "    element.style[key] = styleAttributes[key];\n",
              "  }\n",
              "  return element;\n",
              "}\n",
              "\n",
              "// Max number of bytes which will be uploaded at a time.\n",
              "const MAX_PAYLOAD_SIZE = 100 * 1024;\n",
              "\n",
              "function _uploadFiles(inputId, outputId) {\n",
              "  const steps = uploadFilesStep(inputId, outputId);\n",
              "  const outputElement = document.getElementById(outputId);\n",
              "  // Cache steps on the outputElement to make it available for the next call\n",
              "  // to uploadFilesContinue from Python.\n",
              "  outputElement.steps = steps;\n",
              "\n",
              "  return _uploadFilesContinue(outputId);\n",
              "}\n",
              "\n",
              "// This is roughly an async generator (not supported in the browser yet),\n",
              "// where there are multiple asynchronous steps and the Python side is going\n",
              "// to poll for completion of each step.\n",
              "// This uses a Promise to block the python side on completion of each step,\n",
              "// then passes the result of the previous step as the input to the next step.\n",
              "function _uploadFilesContinue(outputId) {\n",
              "  const outputElement = document.getElementById(outputId);\n",
              "  const steps = outputElement.steps;\n",
              "\n",
              "  const next = steps.next(outputElement.lastPromiseValue);\n",
              "  return Promise.resolve(next.value.promise).then((value) => {\n",
              "    // Cache the last promise value to make it available to the next\n",
              "    // step of the generator.\n",
              "    outputElement.lastPromiseValue = value;\n",
              "    return next.value.response;\n",
              "  });\n",
              "}\n",
              "\n",
              "/**\n",
              " * Generator function which is called between each async step of the upload\n",
              " * process.\n",
              " * @param {string} inputId Element ID of the input file picker element.\n",
              " * @param {string} outputId Element ID of the output display.\n",
              " * @return {!Iterable<!Object>} Iterable of next steps.\n",
              " */\n",
              "function* uploadFilesStep(inputId, outputId) {\n",
              "  const inputElement = document.getElementById(inputId);\n",
              "  inputElement.disabled = false;\n",
              "\n",
              "  const outputElement = document.getElementById(outputId);\n",
              "  outputElement.innerHTML = '';\n",
              "\n",
              "  const pickedPromise = new Promise((resolve) => {\n",
              "    inputElement.addEventListener('change', (e) => {\n",
              "      resolve(e.target.files);\n",
              "    });\n",
              "  });\n",
              "\n",
              "  const cancel = document.createElement('button');\n",
              "  inputElement.parentElement.appendChild(cancel);\n",
              "  cancel.textContent = 'Cancel upload';\n",
              "  const cancelPromise = new Promise((resolve) => {\n",
              "    cancel.onclick = () => {\n",
              "      resolve(null);\n",
              "    };\n",
              "  });\n",
              "\n",
              "  // Wait for the user to pick the files.\n",
              "  const files = yield {\n",
              "    promise: Promise.race([pickedPromise, cancelPromise]),\n",
              "    response: {\n",
              "      action: 'starting',\n",
              "    }\n",
              "  };\n",
              "\n",
              "  cancel.remove();\n",
              "\n",
              "  // Disable the input element since further picks are not allowed.\n",
              "  inputElement.disabled = true;\n",
              "\n",
              "  if (!files) {\n",
              "    return {\n",
              "      response: {\n",
              "        action: 'complete',\n",
              "      }\n",
              "    };\n",
              "  }\n",
              "\n",
              "  for (const file of files) {\n",
              "    const li = document.createElement('li');\n",
              "    li.append(span(file.name, {fontWeight: 'bold'}));\n",
              "    li.append(span(\n",
              "        `(${file.type || 'n/a'}) - ${file.size} bytes, ` +\n",
              "        `last modified: ${\n",
              "            file.lastModifiedDate ? file.lastModifiedDate.toLocaleDateString() :\n",
              "                                    'n/a'} - `));\n",
              "    const percent = span('0% done');\n",
              "    li.appendChild(percent);\n",
              "\n",
              "    outputElement.appendChild(li);\n",
              "\n",
              "    const fileDataPromise = new Promise((resolve) => {\n",
              "      const reader = new FileReader();\n",
              "      reader.onload = (e) => {\n",
              "        resolve(e.target.result);\n",
              "      };\n",
              "      reader.readAsArrayBuffer(file);\n",
              "    });\n",
              "    // Wait for the data to be ready.\n",
              "    let fileData = yield {\n",
              "      promise: fileDataPromise,\n",
              "      response: {\n",
              "        action: 'continue',\n",
              "      }\n",
              "    };\n",
              "\n",
              "    // Use a chunked sending to avoid message size limits. See b/62115660.\n",
              "    let position = 0;\n",
              "    do {\n",
              "      const length = Math.min(fileData.byteLength - position, MAX_PAYLOAD_SIZE);\n",
              "      const chunk = new Uint8Array(fileData, position, length);\n",
              "      position += length;\n",
              "\n",
              "      const base64 = btoa(String.fromCharCode.apply(null, chunk));\n",
              "      yield {\n",
              "        response: {\n",
              "          action: 'append',\n",
              "          file: file.name,\n",
              "          data: base64,\n",
              "        },\n",
              "      };\n",
              "\n",
              "      let percentDone = fileData.byteLength === 0 ?\n",
              "          100 :\n",
              "          Math.round((position / fileData.byteLength) * 100);\n",
              "      percent.textContent = `${percentDone}% done`;\n",
              "\n",
              "    } while (position < fileData.byteLength);\n",
              "  }\n",
              "\n",
              "  // All done.\n",
              "  yield {\n",
              "    response: {\n",
              "      action: 'complete',\n",
              "    }\n",
              "  };\n",
              "}\n",
              "\n",
              "scope.google = scope.google || {};\n",
              "scope.google.colab = scope.google.colab || {};\n",
              "scope.google.colab._files = {\n",
              "  _uploadFiles,\n",
              "  _uploadFilesContinue,\n",
              "};\n",
              "})(self);\n",
              "</script> "
            ]
          },
          "metadata": {}
        },
        {
          "output_type": "stream",
          "name": "stdout",
          "text": [
            "Saving claim.txt to claim.txt\n"
          ]
        }
      ]
    },
    {
      "cell_type": "code",
      "source": [
        "# Chuyển file txt sang định dạng file json\n",
        "import json\n",
        "\n",
        "txt_filename = 'claim.txt'\n",
        "json_filename = 'claim.json'\n",
        "\n",
        "claims = []\n",
        "\n",
        "# Đọc file txt và chuyển từng dòng thành dict\n",
        "with open(txt_filename, 'r', encoding='utf-8') as f:\n",
        "    for line in f:\n",
        "        line = line.strip()\n",
        "        if line:\n",
        "            claims.append({\"claim\": line})\n",
        "\n",
        "# Ghi ra file JSON\n",
        "with open(json_filename, 'w', encoding='utf-8') as f:\n",
        "    json.dump(claims, f, ensure_ascii=False, indent=2)\n",
        "\n",
        "print(f\"Đã chuyển {len(claims)} dòng thành JSON và lưu vào '{json_filename}'\")"
      ],
      "metadata": {
        "colab": {
          "base_uri": "https://localhost:8080/"
        },
        "id": "R_0tVh1Blt8T",
        "outputId": "6cd8c2cd-20b9-4757-edce-2735064076cd"
      },
      "execution_count": 6,
      "outputs": [
        {
          "output_type": "stream",
          "name": "stdout",
          "text": [
            "Đã chuyển 2008 dòng thành JSON và lưu vào 'claim.json'\n"
          ]
        }
      ]
    },
    {
      "cell_type": "markdown",
      "source": [
        "# Tiền xử lý dữ liệu"
      ],
      "metadata": {
        "id": "DUP9f37knmKS"
      }
    },
    {
      "cell_type": "markdown",
      "source": [
        "## Loại bỏ emoji"
      ],
      "metadata": {
        "id": "pKswhfUkoC7V"
      }
    },
    {
      "cell_type": "code",
      "source": [
        "import json\n",
        "import re\n",
        "import string\n",
        "\n",
        "def remove_emoji(string):\n",
        "    emoji_pattern = re.compile(\n",
        "        \"[\"\n",
        "        u\"\\U0001F600-\\U0001F64F\"\n",
        "        u\"\\U0001F300-\\U0001F5FF\"\n",
        "        u\"\\U0001F680-\\U0001F6FF\"\n",
        "        u\"\\U0001F1E0-\\U0001F1FF\"\n",
        "        u\"\\U00002500-\\U00002BEF\"\n",
        "        u\"\\U00002702-\\U000027B0\"\n",
        "        u\"\\U000024C2-\\U0001F251\"\n",
        "        u\"\\U0001f926-\\U0001f937\"\n",
        "        u\"\\U00010000-\\U0010ffff\"\n",
        "        u\"\\u2640-\\u2642\"\n",
        "        u\"\\u2600-\\u2B55\"\n",
        "        u\"\\u200d\"\n",
        "        u\"\\u23cf\"\n",
        "        u\"\\u23e9\"\n",
        "        u\"\\u231a\"\n",
        "        u\"\\ufe0f\"\n",
        "        u\"\\u3030\"\n",
        "        \"]+\", flags=re.UNICODE)\n",
        "    return emoji_pattern.sub(r'', string)"
      ],
      "metadata": {
        "id": "PcvPiCOxoF2i"
      },
      "execution_count": 7,
      "outputs": []
    },
    {
      "cell_type": "markdown",
      "source": [
        "## Loại bỏ emoticon ký tự"
      ],
      "metadata": {
        "id": "JMDvEXKU1EGV"
      }
    },
    {
      "cell_type": "code",
      "source": [
        "def remove_emoticons(text):\n",
        "    emoticon_pattern = re.compile(r'(:\\)+|:\\(+|=+\\)+|:v|:V|:\\||:D|:\\>|\\:<|:3|:P|:p|:o|:O|:s|:S|:x|:X|:’\\(|:\")')\n",
        "    return emoticon_pattern.sub('', text)"
      ],
      "metadata": {
        "id": "Ug2MihJs1Ig8"
      },
      "execution_count": 8,
      "outputs": []
    },
    {
      "cell_type": "markdown",
      "source": [
        "## Loại bỏ Tag tên"
      ],
      "metadata": {
        "id": "P4KsFJU6npVQ"
      }
    },
    {
      "cell_type": "code",
      "source": [
        "def remove_tag_name(text):\n",
        "    return re.sub(r'@(?:[A-ZÀ-Ỵ][a-zà-ỹ]*\\s?)+,?', '', text)"
      ],
      "metadata": {
        "id": "L4inPz3YnoY1"
      },
      "execution_count": 9,
      "outputs": []
    },
    {
      "cell_type": "markdown",
      "source": [
        "## Loại bỏ Liên kết"
      ],
      "metadata": {
        "id": "zqL2ZmRlonjG"
      }
    },
    {
      "cell_type": "code",
      "source": [
        "def remove_links(text):\n",
        "    return re.sub(r\"http\\S+|www\\S+\", '', text)"
      ],
      "metadata": {
        "id": "24Mc1o5hopfp"
      },
      "execution_count": 10,
      "outputs": []
    },
    {
      "cell_type": "markdown",
      "source": [
        "## Loại bỏ các ký tự lặp liên tiếp từ 3 lần trở lên thành 2 lần"
      ],
      "metadata": {
        "id": "hM_74BCdp9jz"
      }
    },
    {
      "cell_type": "code",
      "source": [
        "def delete_redundant_characters(text):\n",
        "    return re.sub(r'(.)\\1{2,}', r'\\1\\1', text)"
      ],
      "metadata": {
        "id": "0yX5uTE5oq9g"
      },
      "execution_count": 11,
      "outputs": []
    },
    {
      "cell_type": "markdown",
      "source": [
        "## Chuẩn hóa khoảng trắng"
      ],
      "metadata": {
        "id": "XF-exaPGr7RS"
      }
    },
    {
      "cell_type": "code",
      "source": [
        "def normalize_whitespace(text):\n",
        "    return re.sub(r'\\s+', ' ', text).strip()"
      ],
      "metadata": {
        "id": "xqnShojrr8j8"
      },
      "execution_count": 12,
      "outputs": []
    },
    {
      "cell_type": "markdown",
      "source": [
        "## Xử lý Teencode, Từ tiếng Anh"
      ],
      "metadata": {
        "id": "9u5sPv0MsDwP"
      }
    },
    {
      "cell_type": "code",
      "source": [
        "teencode_dict = {\n",
        "    \"t\" : \"tôi\",\n",
        "    \"tao\" : \"tôi\",\n",
        "    \"tui\" : \"tôi\",\n",
        "    \"m\" : \"mày\",\n",
        "    \"K\" : \"không\",\n",
        "    \"k\" : \"không\",\n",
        "    \"ko\" : \"không\",\n",
        "    \"nhma\" : \"nhưng mà\",\n",
        "    \"b\" : \"bạn\",\n",
        "    \"h\" : \"giờ\",\n",
        "    \"z\" : \"vậy\",\n",
        "    \"zị\" : \"vậy\",\n",
        "    \"v\" : \"vậy\",\n",
        "    \"ng\" : \"người\",\n",
        "    \"ngta\" : \"người ta\",\n",
        "    \"mn\" : \"mọi người\",\n",
        "    \"ms\" : \"mới\",\n",
        "    \"dc\" : \"được\",\n",
        "    \"đc\" : \"được\",\n",
        "    \"r\" : \"rồi\",\n",
        "    \"bl\" : \"bình luận\",\n",
        "    \"vk\" : \"vợ\",\n",
        "    \"ck\" : \"chồng\",\n",
        "    \"thg\" : \"thằng\",\n",
        "    \"CA\" : \"công an\",\n",
        "    \"e\" : \"em\",\n",
        "    \"vs\" : \"với\",\n",
        "    \"ae\" : \"anh em\",\n",
        "    \"ntn\" : \"như thế này\",\n",
        "    \"bt\" : \"biết\",\n",
        "    \"j\" : \"gì\",\n",
        "    \"cgi\" : \"cái gì\",\n",
        "    \"fb\" : \"facebook\",\n",
        "    \"cmt\" : \"bình luận\",\n",
        "    \"tks\" : \"cảm ơn\",\n",
        "    \"dt\" : \"dân tộc\",\n",
        "    \"vn\" : \"Việt Nam\",\n",
        "    \"VN\" : \"Việt Nam\",\n",
        "    \"sg\" : \"Thành phố Hồ Chí Minh\",\n",
        "    \"xh\" : \"xã hội\",\n",
        "    \"m\" : \"mày\",\n",
        "    \"bn\" : \"bạn\",\n",
        "    \"a\" : \"anh\",\n",
        "    \"e\": \"em\",\n",
        "    \"mk\": \"mình\",\n",
        "    \"mik\": \"mình\",\n",
        "    \"ngkh\": \"người khác\",\n",
        "    \"mxh\" : \"mạng xã hội\",\n",
        "    \"gđ\" : \"gia đình\",\n",
        "    \"đh\" : \"Đại học\",\n",
        "    \"Đh\" : \"Đại học\",\n",
        "    \"cntt\" : \"Công nghệ thông tin\",\n",
        "    \"Cntt\" : \"Công nghệ thông tin\",\n",
        "    \"auto\" : \"hiển nhiên\",\n",
        "    \"bro\" : \"anh em\",\n",
        "    \"thui\" : \"thôi\",\n",
        "    \"tr\": \"trời\",\n",
        "    \"kcn\": \"kem chống nắng\",\n",
        "    \"sk\" : \"sức khỏe\",\n",
        "    \"TQ\" : \"Trung Quốc\",\n",
        "    \"mấy fen\" : \"các bạn\",\n",
        "    \"uk\" : \"ừ\",\n",
        "    \"đr\" : \"đúng rồi\",\n",
        "    \"ykr\" : \"ý kiến riêng\",\n",
        "    \"đv\" : \"đối với\",\n",
        "    \"ròi\" : \"rồi\",\n",
        "    \"rùi\" : \"rồi\",\n",
        "    \"mọi ng\" : \"mọi người\",\n",
        "    \"hic\" : \"\",\n",
        "    \"huhu\" : \"\",\n",
        "    \"iu\": \"yêu\",\n",
        "    \"tóp tóp\": \"tiktok\",\n",
        "    \"zậy\": \"vậy\",\n",
        "    \"zồi\": \"rồi\",\n",
        "    \"hok\" : \"không\",\n",
        "    \"ơi zời\" : \"ôi trời\",\n",
        "    \"zị\" : \"vậy\",\n",
        "    \"chj\" : \"chị\",\n",
        "    \"zai\" : \"trai\",\n",
        "    \"SVĐ\" : \"sân vận động\",\n",
        "    \"HN\" : \"Hà Nội\",\n",
        "    \"thk\" : \"thằng\",\n",
        "    \"nc\" : \"nước\",\n",
        "    \"vs\" : \"với\",\n",
        "    \"TópTóp\" : \"TikTok\",\n",
        "    \"nhìu\" : \"nhiều\",\n",
        "    \"ng\" : \"người\",\n",
        "    \"p\" : \"phút\",\n",
        "    \"bsĩ\" : \"bác sĩ\",\n",
        "    \"hk\" : \"không\",\n",
        "    \"zui zẻ\" : \"vui vẻ\",\n",
        "    \"SV\" : \"sinh viên\",\n",
        "    \"tỏi\" : \"tỷ\",\n",
        "    \"TPHCM\" : \"Thành phố Hồ Chí Minh\",\n",
        "    \"GV\" : \"giáo viên\",\n",
        "    \"củ\" : \"triệu\",\n",
        "    \"Clb\" : \"câu lạc bộ\",\n",
        "    \"KHXH&NV\" : \"Khoa học xã hội và Nhân văn\",\n",
        "    \"dzị\" : \"vậy\",\n",
        "    \"GTVT\" : \"Giao thông vận tải\",\n",
        "    \"lag\": \"giật\",\n",
        "    \"Mẹc\": \"Mercedes\",\n",
        "    \"ĐHQGHN\": \"Đại học Quốc gia Hà Nội\",\n",
        "    \"10k\": \"10 nghìn\",\n",
        "    \"ĐHQG TPHCM\": \"Đại học Quốc gia Thành phố Hồ Chí Minh\",\n",
        "    \"GDQP\": \"Giáo dục Quốc phòng\",\n",
        "    \"info\": \"thông tin\",\n",
        "    \"ĐH BKHN\": \"Đại học Bách khoa Hà Nội\",\n",
        "    \"KTX\": \"ký túc xá\",\n",
        "    \"TDTT\": \"Thể dục thể thao\",\n",
        "    \"acc clone\": \"tài khoản phụ\",\n",
        "    \"spam\": \"tin rác\",\n",
        "    \"update\": \"cập nhật\",\n",
        "    \"content\": \"nội dung\",\n",
        "    \"subs\": \"người theo dõi\",\n",
        "    \"template\": \"mẫu\",\n",
        "    \"text\": \"văn bản\",\n",
        "    \"newsfeed\": \"bảng tin\",\n",
        "    \"apply\": \"nộp đơn\",\n",
        "    \"N2\": \"trình độ tiếng Nhật N2\",\n",
        "    \"Fresher\": \"người mới\",\n",
        "    \"skill\": \"kỹ năng\",\n",
        "    \"HR\": \"nhân sự\",\n",
        "    \"TNCN\": \"thu nhập cá nhân\",\n",
        "    \"Outsource\": \"thuê ngoài\",\n",
        "    \"networking\": \"xây dựng mối quan hệ\",\n",
        "    \"FMCG\": \"hàng tiêu dùng nhanh\",\n",
        "    \"OT\": \"tăng ca\",\n",
        "    \"Broker\": \"môi giới\",\n",
        "    \"ads\": \"quảng cáo\",\n",
        "    \"kk\" : \"\",\n",
        "    \"BĐS\" : \"bất động sản\"\n",
        "}"
      ],
      "metadata": {
        "id": "gzpcByHXsFSq"
      },
      "execution_count": 23,
      "outputs": []
    },
    {
      "cell_type": "code",
      "source": [
        "def replace_teencode(text, teencode_dict):\n",
        "    if not isinstance(text, str):\n",
        "        return text\n",
        "\n",
        "    # Sắp xếp theo độ dài từ khóa để xử lý cụm trước\n",
        "    sorted_dict = dict(sorted(teencode_dict.items(), key=lambda x: -len(x[0])))\n",
        "\n",
        "    for word, replacement in sorted_dict.items():\n",
        "        pattern = r'\\b' + re.escape(word) + r'\\b'\n",
        "        text = re.sub(pattern, replacement, text, flags=re.IGNORECASE)\n",
        "    return text"
      ],
      "metadata": {
        "id": "mz9xJzSi0Hb1"
      },
      "execution_count": 24,
      "outputs": []
    },
    {
      "cell_type": "markdown",
      "source": [
        "## Áp dụng cho file json dữ liệu"
      ],
      "metadata": {
        "id": "xEiroFQL0fgQ"
      }
    },
    {
      "cell_type": "code",
      "source": [
        "def preprocess_claim(text, teencode_dict):\n",
        "    text = remove_emoji(text)\n",
        "    text = remove_emoticons(text)\n",
        "    text = remove_tag_name(text)\n",
        "    text = remove_links(text)\n",
        "    text = delete_redundant_characters(text)\n",
        "    text = replace_teencode(text, teencode_dict)\n",
        "    text = normalize_whitespace(text)\n",
        "    return text"
      ],
      "metadata": {
        "id": "88QqwI0c0hfN"
      },
      "execution_count": 25,
      "outputs": []
    },
    {
      "cell_type": "code",
      "source": [
        "def process_json_claims(input_path, output_path, teencode_dict):\n",
        "    with open(input_path, 'r', encoding='utf-8') as f:\n",
        "        data = json.load(f)\n",
        "\n",
        "    for item in data:\n",
        "        if \"claim\" in item:\n",
        "            item[\"claim\"] = preprocess_claim(item[\"claim\"], teencode_dict)\n",
        "\n",
        "    with open(output_path, 'w', encoding='utf-8') as f:\n",
        "        json.dump(data, f, ensure_ascii=False, indent=2)\n",
        "\n",
        "    print(f\"Đã xử lý xong và lưu vào '{output_path}'\")"
      ],
      "metadata": {
        "id": "BCvtiFN80ndF"
      },
      "execution_count": 26,
      "outputs": []
    },
    {
      "cell_type": "code",
      "source": [
        "process_json_claims(\"claim.json\", \"claim_cleaned.json\", teencode_dict)"
      ],
      "metadata": {
        "colab": {
          "base_uri": "https://localhost:8080/"
        },
        "id": "iTaAhfFn0qIs",
        "outputId": "11622266-4e62-4d34-a62d-6494d2bc329c"
      },
      "execution_count": 27,
      "outputs": [
        {
          "output_type": "stream",
          "name": "stdout",
          "text": [
            "Đã xử lý xong và lưu vào 'claim_cleaned.json'\n"
          ]
        }
      ]
    }
  ]
}