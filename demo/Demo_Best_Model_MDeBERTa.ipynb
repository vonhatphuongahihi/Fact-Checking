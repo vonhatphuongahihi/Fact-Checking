{
  "nbformat": 4,
  "nbformat_minor": 0,
  "metadata": {
    "colab": {
      "provenance": [],
      "gpuType": "T4"
    },
    "kernelspec": {
      "name": "python3",
      "display_name": "Python 3"
    },
    "language_info": {
      "name": "python"
    },
    "accelerator": "GPU"
  },
  "cells": [
    {
      "cell_type": "markdown",
      "source": [
        "## Cài đặt thư viện"
      ],
      "metadata": {
        "id": "iCVIcvcj4-gt"
      }
    },
    {
      "cell_type": "code",
      "execution_count": 1,
      "metadata": {
        "colab": {
          "base_uri": "https://localhost:8080/"
        },
        "id": "u72rXQdXRgip",
        "outputId": "ea2d651c-9dc2-4727-f835-3c1a397fb4b8"
      },
      "outputs": [
        {
          "output_type": "stream",
          "name": "stdout",
          "text": [
            "Requirement already satisfied: transformers in /usr/local/lib/python3.11/dist-packages (4.52.3)\n",
            "Requirement already satisfied: torch in /usr/local/lib/python3.11/dist-packages (2.6.0+cu124)\n",
            "Requirement already satisfied: filelock in /usr/local/lib/python3.11/dist-packages (from transformers) (3.18.0)\n",
            "Requirement already satisfied: huggingface-hub<1.0,>=0.30.0 in /usr/local/lib/python3.11/dist-packages (from transformers) (0.32.2)\n",
            "Requirement already satisfied: numpy>=1.17 in /usr/local/lib/python3.11/dist-packages (from transformers) (2.0.2)\n",
            "Requirement already satisfied: packaging>=20.0 in /usr/local/lib/python3.11/dist-packages (from transformers) (24.2)\n",
            "Requirement already satisfied: pyyaml>=5.1 in /usr/local/lib/python3.11/dist-packages (from transformers) (6.0.2)\n",
            "Requirement already satisfied: regex!=2019.12.17 in /usr/local/lib/python3.11/dist-packages (from transformers) (2024.11.6)\n",
            "Requirement already satisfied: requests in /usr/local/lib/python3.11/dist-packages (from transformers) (2.32.3)\n",
            "Requirement already satisfied: tokenizers<0.22,>=0.21 in /usr/local/lib/python3.11/dist-packages (from transformers) (0.21.1)\n",
            "Requirement already satisfied: safetensors>=0.4.3 in /usr/local/lib/python3.11/dist-packages (from transformers) (0.5.3)\n",
            "Requirement already satisfied: tqdm>=4.27 in /usr/local/lib/python3.11/dist-packages (from transformers) (4.67.1)\n",
            "Requirement already satisfied: typing-extensions>=4.10.0 in /usr/local/lib/python3.11/dist-packages (from torch) (4.13.2)\n",
            "Requirement already satisfied: networkx in /usr/local/lib/python3.11/dist-packages (from torch) (3.5)\n",
            "Requirement already satisfied: jinja2 in /usr/local/lib/python3.11/dist-packages (from torch) (3.1.6)\n",
            "Requirement already satisfied: fsspec in /usr/local/lib/python3.11/dist-packages (from torch) (2025.3.2)\n",
            "Collecting nvidia-cuda-nvrtc-cu12==12.4.127 (from torch)\n",
            "  Downloading nvidia_cuda_nvrtc_cu12-12.4.127-py3-none-manylinux2014_x86_64.whl.metadata (1.5 kB)\n",
            "Collecting nvidia-cuda-runtime-cu12==12.4.127 (from torch)\n",
            "  Downloading nvidia_cuda_runtime_cu12-12.4.127-py3-none-manylinux2014_x86_64.whl.metadata (1.5 kB)\n",
            "Collecting nvidia-cuda-cupti-cu12==12.4.127 (from torch)\n",
            "  Downloading nvidia_cuda_cupti_cu12-12.4.127-py3-none-manylinux2014_x86_64.whl.metadata (1.6 kB)\n",
            "Collecting nvidia-cudnn-cu12==9.1.0.70 (from torch)\n",
            "  Downloading nvidia_cudnn_cu12-9.1.0.70-py3-none-manylinux2014_x86_64.whl.metadata (1.6 kB)\n",
            "Collecting nvidia-cublas-cu12==12.4.5.8 (from torch)\n",
            "  Downloading nvidia_cublas_cu12-12.4.5.8-py3-none-manylinux2014_x86_64.whl.metadata (1.5 kB)\n",
            "Collecting nvidia-cufft-cu12==11.2.1.3 (from torch)\n",
            "  Downloading nvidia_cufft_cu12-11.2.1.3-py3-none-manylinux2014_x86_64.whl.metadata (1.5 kB)\n",
            "Collecting nvidia-curand-cu12==10.3.5.147 (from torch)\n",
            "  Downloading nvidia_curand_cu12-10.3.5.147-py3-none-manylinux2014_x86_64.whl.metadata (1.5 kB)\n",
            "Collecting nvidia-cusolver-cu12==11.6.1.9 (from torch)\n",
            "  Downloading nvidia_cusolver_cu12-11.6.1.9-py3-none-manylinux2014_x86_64.whl.metadata (1.6 kB)\n",
            "Collecting nvidia-cusparse-cu12==12.3.1.170 (from torch)\n",
            "  Downloading nvidia_cusparse_cu12-12.3.1.170-py3-none-manylinux2014_x86_64.whl.metadata (1.6 kB)\n",
            "Requirement already satisfied: nvidia-cusparselt-cu12==0.6.2 in /usr/local/lib/python3.11/dist-packages (from torch) (0.6.2)\n",
            "Requirement already satisfied: nvidia-nccl-cu12==2.21.5 in /usr/local/lib/python3.11/dist-packages (from torch) (2.21.5)\n",
            "Requirement already satisfied: nvidia-nvtx-cu12==12.4.127 in /usr/local/lib/python3.11/dist-packages (from torch) (12.4.127)\n",
            "Collecting nvidia-nvjitlink-cu12==12.4.127 (from torch)\n",
            "  Downloading nvidia_nvjitlink_cu12-12.4.127-py3-none-manylinux2014_x86_64.whl.metadata (1.5 kB)\n",
            "Requirement already satisfied: triton==3.2.0 in /usr/local/lib/python3.11/dist-packages (from torch) (3.2.0)\n",
            "Requirement already satisfied: sympy==1.13.1 in /usr/local/lib/python3.11/dist-packages (from torch) (1.13.1)\n",
            "Requirement already satisfied: mpmath<1.4,>=1.1.0 in /usr/local/lib/python3.11/dist-packages (from sympy==1.13.1->torch) (1.3.0)\n",
            "Requirement already satisfied: hf-xet<2.0.0,>=1.1.2 in /usr/local/lib/python3.11/dist-packages (from huggingface-hub<1.0,>=0.30.0->transformers) (1.1.2)\n",
            "Requirement already satisfied: MarkupSafe>=2.0 in /usr/local/lib/python3.11/dist-packages (from jinja2->torch) (3.0.2)\n",
            "Requirement already satisfied: charset-normalizer<4,>=2 in /usr/local/lib/python3.11/dist-packages (from requests->transformers) (3.4.2)\n",
            "Requirement already satisfied: idna<4,>=2.5 in /usr/local/lib/python3.11/dist-packages (from requests->transformers) (3.10)\n",
            "Requirement already satisfied: urllib3<3,>=1.21.1 in /usr/local/lib/python3.11/dist-packages (from requests->transformers) (2.4.0)\n",
            "Requirement already satisfied: certifi>=2017.4.17 in /usr/local/lib/python3.11/dist-packages (from requests->transformers) (2025.4.26)\n",
            "Downloading nvidia_cublas_cu12-12.4.5.8-py3-none-manylinux2014_x86_64.whl (363.4 MB)\n",
            "\u001b[2K   \u001b[90m━━━━━━━━━━━━━━━━━━━━━━━━━━━━━━━━━━━━━━━━\u001b[0m \u001b[32m363.4/363.4 MB\u001b[0m \u001b[31m3.6 MB/s\u001b[0m eta \u001b[36m0:00:00\u001b[0m\n",
            "\u001b[?25hDownloading nvidia_cuda_cupti_cu12-12.4.127-py3-none-manylinux2014_x86_64.whl (13.8 MB)\n",
            "\u001b[2K   \u001b[90m━━━━━━━━━━━━━━━━━━━━━━━━━━━━━━━━━━━━━━━━\u001b[0m \u001b[32m13.8/13.8 MB\u001b[0m \u001b[31m21.6 MB/s\u001b[0m eta \u001b[36m0:00:00\u001b[0m\n",
            "\u001b[?25hDownloading nvidia_cuda_nvrtc_cu12-12.4.127-py3-none-manylinux2014_x86_64.whl (24.6 MB)\n",
            "\u001b[2K   \u001b[90m━━━━━━━━━━━━━━━━━━━━━━━━━━━━━━━━━━━━━━━━\u001b[0m \u001b[32m24.6/24.6 MB\u001b[0m \u001b[31m25.4 MB/s\u001b[0m eta \u001b[36m0:00:00\u001b[0m\n",
            "\u001b[?25hDownloading nvidia_cuda_runtime_cu12-12.4.127-py3-none-manylinux2014_x86_64.whl (883 kB)\n",
            "\u001b[2K   \u001b[90m━━━━━━━━━━━━━━━━━━━━━━━━━━━━━━━━━━━━━━━━\u001b[0m \u001b[32m883.7/883.7 kB\u001b[0m \u001b[31m36.5 MB/s\u001b[0m eta \u001b[36m0:00:00\u001b[0m\n",
            "\u001b[?25hDownloading nvidia_cudnn_cu12-9.1.0.70-py3-none-manylinux2014_x86_64.whl (664.8 MB)\n",
            "\u001b[2K   \u001b[90m━━━━━━━━━━━━━━━━━━━━━━━━━━━━━━━━━━━━━━━━\u001b[0m \u001b[32m664.8/664.8 MB\u001b[0m \u001b[31m2.7 MB/s\u001b[0m eta \u001b[36m0:00:00\u001b[0m\n",
            "\u001b[?25hDownloading nvidia_cufft_cu12-11.2.1.3-py3-none-manylinux2014_x86_64.whl (211.5 MB)\n",
            "\u001b[2K   \u001b[90m━━━━━━━━━━━━━━━━━━━━━━━━━━━━━━━━━━━━━━━━\u001b[0m \u001b[32m211.5/211.5 MB\u001b[0m \u001b[31m7.2 MB/s\u001b[0m eta \u001b[36m0:00:00\u001b[0m\n",
            "\u001b[?25hDownloading nvidia_curand_cu12-10.3.5.147-py3-none-manylinux2014_x86_64.whl (56.3 MB)\n",
            "\u001b[2K   \u001b[90m━━━━━━━━━━━━━━━━━━━━━━━━━━━━━━━━━━━━━━━━\u001b[0m \u001b[32m56.3/56.3 MB\u001b[0m \u001b[31m15.4 MB/s\u001b[0m eta \u001b[36m0:00:00\u001b[0m\n",
            "\u001b[?25hDownloading nvidia_cusolver_cu12-11.6.1.9-py3-none-manylinux2014_x86_64.whl (127.9 MB)\n",
            "\u001b[2K   \u001b[90m━━━━━━━━━━━━━━━━━━━━━━━━━━━━━━━━━━━━━━━━\u001b[0m \u001b[32m127.9/127.9 MB\u001b[0m \u001b[31m8.6 MB/s\u001b[0m eta \u001b[36m0:00:00\u001b[0m\n",
            "\u001b[?25hDownloading nvidia_cusparse_cu12-12.3.1.170-py3-none-manylinux2014_x86_64.whl (207.5 MB)\n",
            "\u001b[2K   \u001b[90m━━━━━━━━━━━━━━━━━━━━━━━━━━━━━━━━━━━━━━━━\u001b[0m \u001b[32m207.5/207.5 MB\u001b[0m \u001b[31m6.0 MB/s\u001b[0m eta \u001b[36m0:00:00\u001b[0m\n",
            "\u001b[?25hDownloading nvidia_nvjitlink_cu12-12.4.127-py3-none-manylinux2014_x86_64.whl (21.1 MB)\n",
            "\u001b[2K   \u001b[90m━━━━━━━━━━━━━━━━━━━━━━━━━━━━━━━━━━━━━━━━\u001b[0m \u001b[32m21.1/21.1 MB\u001b[0m \u001b[31m20.9 MB/s\u001b[0m eta \u001b[36m0:00:00\u001b[0m\n",
            "\u001b[?25hInstalling collected packages: nvidia-nvjitlink-cu12, nvidia-curand-cu12, nvidia-cufft-cu12, nvidia-cuda-runtime-cu12, nvidia-cuda-nvrtc-cu12, nvidia-cuda-cupti-cu12, nvidia-cublas-cu12, nvidia-cusparse-cu12, nvidia-cudnn-cu12, nvidia-cusolver-cu12\n",
            "  Attempting uninstall: nvidia-nvjitlink-cu12\n",
            "    Found existing installation: nvidia-nvjitlink-cu12 12.5.82\n",
            "    Uninstalling nvidia-nvjitlink-cu12-12.5.82:\n",
            "      Successfully uninstalled nvidia-nvjitlink-cu12-12.5.82\n",
            "  Attempting uninstall: nvidia-curand-cu12\n",
            "    Found existing installation: nvidia-curand-cu12 10.3.6.82\n",
            "    Uninstalling nvidia-curand-cu12-10.3.6.82:\n",
            "      Successfully uninstalled nvidia-curand-cu12-10.3.6.82\n",
            "  Attempting uninstall: nvidia-cufft-cu12\n",
            "    Found existing installation: nvidia-cufft-cu12 11.2.3.61\n",
            "    Uninstalling nvidia-cufft-cu12-11.2.3.61:\n",
            "      Successfully uninstalled nvidia-cufft-cu12-11.2.3.61\n",
            "  Attempting uninstall: nvidia-cuda-runtime-cu12\n",
            "    Found existing installation: nvidia-cuda-runtime-cu12 12.5.82\n",
            "    Uninstalling nvidia-cuda-runtime-cu12-12.5.82:\n",
            "      Successfully uninstalled nvidia-cuda-runtime-cu12-12.5.82\n",
            "  Attempting uninstall: nvidia-cuda-nvrtc-cu12\n",
            "    Found existing installation: nvidia-cuda-nvrtc-cu12 12.5.82\n",
            "    Uninstalling nvidia-cuda-nvrtc-cu12-12.5.82:\n",
            "      Successfully uninstalled nvidia-cuda-nvrtc-cu12-12.5.82\n",
            "  Attempting uninstall: nvidia-cuda-cupti-cu12\n",
            "    Found existing installation: nvidia-cuda-cupti-cu12 12.5.82\n",
            "    Uninstalling nvidia-cuda-cupti-cu12-12.5.82:\n",
            "      Successfully uninstalled nvidia-cuda-cupti-cu12-12.5.82\n",
            "  Attempting uninstall: nvidia-cublas-cu12\n",
            "    Found existing installation: nvidia-cublas-cu12 12.5.3.2\n",
            "    Uninstalling nvidia-cublas-cu12-12.5.3.2:\n",
            "      Successfully uninstalled nvidia-cublas-cu12-12.5.3.2\n",
            "  Attempting uninstall: nvidia-cusparse-cu12\n",
            "    Found existing installation: nvidia-cusparse-cu12 12.5.1.3\n",
            "    Uninstalling nvidia-cusparse-cu12-12.5.1.3:\n",
            "      Successfully uninstalled nvidia-cusparse-cu12-12.5.1.3\n",
            "  Attempting uninstall: nvidia-cudnn-cu12\n",
            "    Found existing installation: nvidia-cudnn-cu12 9.3.0.75\n",
            "    Uninstalling nvidia-cudnn-cu12-9.3.0.75:\n",
            "      Successfully uninstalled nvidia-cudnn-cu12-9.3.0.75\n",
            "  Attempting uninstall: nvidia-cusolver-cu12\n",
            "    Found existing installation: nvidia-cusolver-cu12 11.6.3.83\n",
            "    Uninstalling nvidia-cusolver-cu12-11.6.3.83:\n",
            "      Successfully uninstalled nvidia-cusolver-cu12-11.6.3.83\n",
            "Successfully installed nvidia-cublas-cu12-12.4.5.8 nvidia-cuda-cupti-cu12-12.4.127 nvidia-cuda-nvrtc-cu12-12.4.127 nvidia-cuda-runtime-cu12-12.4.127 nvidia-cudnn-cu12-9.1.0.70 nvidia-cufft-cu12-11.2.1.3 nvidia-curand-cu12-10.3.5.147 nvidia-cusolver-cu12-11.6.1.9 nvidia-cusparse-cu12-12.3.1.170 nvidia-nvjitlink-cu12-12.4.127\n"
          ]
        }
      ],
      "source": [
        "!pip install transformers torch"
      ]
    },
    {
      "cell_type": "code",
      "source": [
        "from google.colab import drive\n",
        "drive.mount('/content/drive')"
      ],
      "metadata": {
        "colab": {
          "base_uri": "https://localhost:8080/"
        },
        "id": "qaneCmG0WadZ",
        "outputId": "6907eee1-ac78-4a76-eef1-bcb2e59405a0"
      },
      "execution_count": 2,
      "outputs": [
        {
          "output_type": "stream",
          "name": "stdout",
          "text": [
            "Mounted at /content/drive\n"
          ]
        }
      ]
    },
    {
      "cell_type": "markdown",
      "source": [
        "## Hàm tiền xử lý"
      ],
      "metadata": {
        "id": "p6P-Q5Kg5Gc1"
      }
    },
    {
      "cell_type": "code",
      "source": [
        "import re\n",
        "\n",
        "def remove_emoji(text):\n",
        "    emoji_pattern = re.compile(\n",
        "        \"[\"\n",
        "        u\"\\U0001F600-\\U0001F64F\"\n",
        "        u\"\\U0001F300-\\U0001F5FF\"\n",
        "        u\"\\U0001F680-\\U0001F6FF\"\n",
        "        u\"\\U0001F1E0-\\U0001F1FF\"\n",
        "        u\"\\U00002500-\\U00002BEF\"\n",
        "        u\"\\U00002702-\\U000027B0\"\n",
        "        u\"\\U000024C2-\\U0001F251\"\n",
        "        u\"\\U0001f926-\\U0001f937\"\n",
        "        u\"\\U00010000-\\U0010ffff\"\n",
        "        u\"\\u2640-\\u2642\"\n",
        "        u\"\\u2600-\\u2B55\"\n",
        "        u\"\\u200d\"\n",
        "        u\"\\u23cf\"\n",
        "        u\"\\u23e9\"\n",
        "        u\"\\u231a\"\n",
        "        u\"\\ufe0f\"\n",
        "        u\"\\u3030\"\n",
        "        \"]+\", flags=re.UNICODE)\n",
        "    return emoji_pattern.sub(r'', text)\n",
        "\n",
        "def remove_emoticons(text):\n",
        "    emoticon_pattern = re.compile(r'(:\\)+|:\\(+|=+\\)+|:v|:V|:\\||:D|:\\>|\\:<|:3|:P|:p|:o|:O|:s|:S|:x|:X|:’\\(|:\")')\n",
        "    return emoticon_pattern.sub('', text)\n",
        "\n",
        "def clean_text_basic(text):\n",
        "    text = re.sub(r'@(?:[A-ZÀ-Ỵ][a-zà-ỹ]*\\s?)+,?', '', text)  # remove tags\n",
        "    text = re.sub(r\"http\\S+|www\\S+\", '', text)                 # remove links\n",
        "    text = re.sub(r'(.)\\1{2,}', r'\\1\\1', text)                 # limit repeated characters\n",
        "    text = re.sub(r'\\s+', ' ', text).strip()                   # normalize whitespace\n",
        "    return text"
      ],
      "metadata": {
        "id": "C5QCZ0oMy-0u"
      },
      "execution_count": 3,
      "outputs": []
    },
    {
      "cell_type": "code",
      "source": [
        "# Hàm chuẩn hóa teencode\n",
        "teencode_dict = {\n",
        "    \"t\" : \"tôi\",\n",
        "    \"tao\" : \"tôi\",\n",
        "    \"tui\" : \"tôi\",\n",
        "    \"m\" : \"mày\",\n",
        "    \"K\" : \"không\",\n",
        "    \"k\" : \"không\",\n",
        "    \"ko\" : \"không\",\n",
        "    \"nhma\" : \"nhưng mà\",\n",
        "    \"b\" : \"bạn\",\n",
        "    \"h\" : \"giờ\",\n",
        "    \"z\" : \"vậy\",\n",
        "    \"zị\" : \"vậy\",\n",
        "    \"v\" : \"vậy\",\n",
        "    \"ng\" : \"người\",\n",
        "    \"ngta\" : \"người ta\",\n",
        "    \"mn\" : \"mọi người\",\n",
        "    \"ms\" : \"mới\",\n",
        "    \"dc\" : \"được\",\n",
        "    \"đc\" : \"được\",\n",
        "    \"r\" : \"rồi\",\n",
        "    \"bl\" : \"bình luận\",\n",
        "    \"vk\" : \"vợ\",\n",
        "    \"ck\" : \"chồng\",\n",
        "    \"thg\" : \"thằng\",\n",
        "    \"CA\" : \"công an\",\n",
        "    \"e\" : \"em\",\n",
        "    \"vs\" : \"với\",\n",
        "    \"ae\" : \"anh em\",\n",
        "    \"ntn\" : \"như thế này\",\n",
        "    \"bt\" : \"biết\",\n",
        "    \"j\" : \"gì\",\n",
        "    \"cgi\" : \"cái gì\",\n",
        "    \"fb\" : \"facebook\",\n",
        "    \"cmt\" : \"bình luận\",\n",
        "    \"tks\" : \"cảm ơn\",\n",
        "    \"dt\" : \"dân tộc\",\n",
        "    \"vn\" : \"Việt Nam\",\n",
        "    \"VN\" : \"Việt Nam\",\n",
        "    \"sg\" : \"Thành phố Hồ Chí Minh\",\n",
        "    \"xh\" : \"xã hội\",\n",
        "    \"m\" : \"mày\",\n",
        "    \"bn\" : \"bạn\",\n",
        "    \"a\" : \"anh\",\n",
        "    \"e\": \"em\",\n",
        "    \"mk\": \"mình\",\n",
        "    \"mik\": \"mình\",\n",
        "    \"ngkh\": \"người khác\",\n",
        "    \"mxh\" : \"mạng xã hội\",\n",
        "    \"gđ\" : \"gia đình\",\n",
        "    \"đh\" : \"Đại học\",\n",
        "    \"Đh\" : \"Đại học\",\n",
        "    \"cntt\" : \"Công nghệ thông tin\",\n",
        "    \"Cntt\" : \"Công nghệ thông tin\",\n",
        "    \"auto\" : \"hiển nhiên\",\n",
        "    \"bro\" : \"anh em\",\n",
        "    \"thui\" : \"thôi\",\n",
        "    \"tr\": \"trời\",\n",
        "    \"kcn\": \"kem chống nắng\",\n",
        "    \"sk\" : \"sức khỏe\",\n",
        "    \"TQ\" : \"Trung Quốc\",\n",
        "    \"mấy fen\" : \"các bạn\",\n",
        "    \"uk\" : \"ừ\",\n",
        "    \"đr\" : \"đúng rồi\",\n",
        "    \"ykr\" : \"ý kiến riêng\",\n",
        "    \"đv\" : \"đối với\",\n",
        "    \"ròi\" : \"rồi\",\n",
        "    \"rùi\" : \"rồi\",\n",
        "    \"mọi ng\" : \"mọi người\",\n",
        "    \"hic\" : \"\",\n",
        "    \"huhu\" : \"\",\n",
        "    \"iu\": \"yêu\",\n",
        "    \"tóp tóp\": \"tiktok\",\n",
        "    \"zậy\": \"vậy\",\n",
        "    \"zồi\": \"rồi\",\n",
        "    \"hok\" : \"không\",\n",
        "    \"ơi zời\" : \"ôi trời\",\n",
        "    \"zị\" : \"vậy\",\n",
        "    \"chj\" : \"chị\",\n",
        "    \"zai\" : \"trai\",\n",
        "    \"SVĐ\" : \"sân vận động\",\n",
        "    \"HN\" : \"Hà Nội\",\n",
        "    \"thk\" : \"thằng\",\n",
        "    \"nc\" : \"nước\",\n",
        "    \"vs\" : \"với\",\n",
        "    \"TópTóp\" : \"TikTok\",\n",
        "    \"nhìu\" : \"nhiều\",\n",
        "    \"ng\" : \"người\",\n",
        "    \"p\" : \"phút\",\n",
        "    \"bsĩ\" : \"bác sĩ\",\n",
        "    \"hk\" : \"không\",\n",
        "    \"zui zẻ\" : \"vui vẻ\",\n",
        "    \"SV\" : \"sinh viên\",\n",
        "    \"tỏi\" : \"tỷ\",\n",
        "    \"TPHCM\" : \"Thành phố Hồ Chí Minh\",\n",
        "    \"GV\" : \"giáo viên\",\n",
        "    \"củ\" : \"triệu\",\n",
        "    \"Clb\" : \"câu lạc bộ\",\n",
        "    \"KHXH&NV\" : \"Khoa học xã hội và Nhân văn\",\n",
        "    \"dzị\" : \"vậy\",\n",
        "    \"GTVT\" : \"Giao thông vận tải\",\n",
        "    \"lag\": \"giật\",\n",
        "    \"Mẹc\": \"Mercedes\",\n",
        "    \"ĐHQGHN\": \"Đại học Quốc gia Hà Nội\",\n",
        "    \"10k\": \"10 nghìn\",\n",
        "    \"ĐHQG TPHCM\": \"Đại học Quốc gia Thành phố Hồ Chí Minh\",\n",
        "    \"GDQP\": \"Giáo dục Quốc phòng\",\n",
        "    \"info\": \"thông tin\",\n",
        "    \"ĐH BKHN\": \"Đại học Bách khoa Hà Nội\",\n",
        "    \"KTX\": \"ký túc xá\",\n",
        "    \"TDTT\": \"Thể dục thể thao\",\n",
        "    \"acc clone\": \"tài khoản phụ\",\n",
        "    \"spam\": \"tin rác\",\n",
        "    \"update\": \"cập nhật\",\n",
        "    \"content\": \"nội dung\",\n",
        "    \"subs\": \"người theo dõi\",\n",
        "    \"template\": \"mẫu\",\n",
        "    \"text\": \"văn bản\",\n",
        "    \"newsfeed\": \"bảng tin\",\n",
        "    \"apply\": \"nộp đơn\",\n",
        "    \"N2\": \"trình độ tiếng Nhật N2\",\n",
        "    \"Fresher\": \"người mới\",\n",
        "    \"skill\": \"kỹ năng\",\n",
        "    \"HR\": \"nhân sự\",\n",
        "    \"TNCN\": \"thu nhập cá nhân\",\n",
        "    \"Outsource\": \"thuê ngoài\",\n",
        "    \"networking\": \"xây dựng mối quan hệ\",\n",
        "    \"FMCG\": \"hàng tiêu dùng nhanh\",\n",
        "    \"OT\": \"tăng ca\",\n",
        "    \"Broker\": \"môi giới\",\n",
        "    \"ads\": \"quảng cáo\",\n",
        "    \"kk\" : \"\",\n",
        "    \"BĐS\" : \"bất động sản\"\n",
        "}\n",
        "\n",
        "def replace_teencode(text):\n",
        "    if not isinstance(text, str):\n",
        "        return text\n",
        "\n",
        "    sorted_dict = dict(sorted(teencode_dict.items(), key=lambda x: -len(x[0])))\n",
        "\n",
        "    for word, replacement in sorted_dict.items():\n",
        "        pattern = r'\\b' + re.escape(word) + r'\\b'\n",
        "        text = re.sub(pattern, replacement, text, flags=re.IGNORECASE)\n",
        "    return text"
      ],
      "metadata": {
        "id": "ihrYgKY88Wmm"
      },
      "execution_count": 4,
      "outputs": []
    },
    {
      "cell_type": "code",
      "source": [
        "# Hàm tiền xử lý chính\n",
        "def preprocess_claim(text):\n",
        "    text = remove_emoji(text)\n",
        "    text = remove_emoticons(text)\n",
        "    text = clean_text_basic(text)\n",
        "    text = replace_teencode(text)\n",
        "    return text"
      ],
      "metadata": {
        "id": "LUu4DdwE8s9Z"
      },
      "execution_count": 5,
      "outputs": []
    },
    {
      "cell_type": "markdown",
      "source": [
        "## Dự đoán nhãn"
      ],
      "metadata": {
        "id": "9GmwtDqQ5Kq7"
      }
    },
    {
      "cell_type": "code",
      "source": [
        "import torch\n",
        "from transformers import AutoTokenizer, AutoModelForSequenceClassification\n",
        "\n",
        "# Load model đã fine-tuned\n",
        "model_path = \"/content/drive/MyDrive/fine_tuned_mdeberta_factcheck\"\n",
        "\n",
        "tokenizer = AutoTokenizer.from_pretrained(model_path)\n",
        "model = AutoModelForSequenceClassification.from_pretrained(model_path)\n",
        "\n",
        "# Đặt model sang chế độ đánh giá\n",
        "model.eval()\n",
        "\n",
        "def predict_fact_checking(claim: str, evidence: str):\n",
        "    \"\"\"\n",
        "    Dự đoán nhãn fact-checking từ một cặp câu claim và evidence.\n",
        "\n",
        "    Args:\n",
        "        claim (str): Câu tuyên bố cần kiểm tra.\n",
        "        evidence (str): Câu bằng chứng đi kèm.\n",
        "\n",
        "    Returns:\n",
        "        Tuple chứa: nhãn dự đoán ('SUPPORTS' hoặc 'REFUTES') và xác suất phân lớp.\n",
        "    \"\"\"\n",
        "    # Tiền xử lý claim\n",
        "    claim = preprocess_claim(claim)\n",
        "\n",
        "    # Tokenize đầu vào\n",
        "    inputs = tokenizer(claim, evidence, return_tensors=\"pt\", truncation=True, padding=True)\n",
        "\n",
        "    # Dự đoán\n",
        "    with torch.no_grad():\n",
        "        outputs = model(**inputs)\n",
        "        logits = outputs.logits\n",
        "        probs = torch.softmax(logits, dim=1)\n",
        "        pred_label = torch.argmax(probs, dim=1).item()\n",
        "\n",
        "    # Mapping nhãn\n",
        "    label_map = {0: \"SUPPORTS\", 1: \"REFUTES\"}\n",
        "    return label_map[pred_label], probs.squeeze().tolist()"
      ],
      "metadata": {
        "id": "fDZrhPlRV2Vy"
      },
      "execution_count": 6,
      "outputs": []
    },
    {
      "cell_type": "code",
      "source": [
        "# Ví dụ 1\n",
        "claim = \"Việt Nam đã vô địch SEA Games 32.\"\n",
        "evidence = \"SEA Games 32 được tổ chức tại Campuchia, và Thái Lan là đội vô địch bóng đá nam.\"\n",
        "\n",
        "label, probabilities = predict_fact_checking(claim, evidence)\n",
        "\n",
        "print(f\"Claim: {claim}\")\n",
        "print(f\"Evidence: {evidence}\")\n",
        "print(f\"Predicted label: {label}\")\n",
        "print(f\"Probabilities (SUPPORTS, REFUTES): {probabilities}\")"
      ],
      "metadata": {
        "colab": {
          "base_uri": "https://localhost:8080/"
        },
        "id": "_4ndx8ubW94H",
        "outputId": "0a23ec89-2879-485a-c022-5795371c52f7"
      },
      "execution_count": 7,
      "outputs": [
        {
          "output_type": "stream",
          "name": "stderr",
          "text": [
            "Asking to truncate to max_length but no maximum length is provided and the model has no predefined maximum length. Default to no truncation.\n"
          ]
        },
        {
          "output_type": "stream",
          "name": "stdout",
          "text": [
            "Claim: Việt Nam đã vô địch SEA Games 32.\n",
            "Evidence: SEA Games 32 được tổ chức tại Campuchia, và Thái Lan là đội vô địch bóng đá nam.\n",
            "Predicted label: REFUTES\n",
            "Probabilities (SUPPORTS, REFUTES): [0.0003420138673391193, 0.9996579885482788]\n"
          ]
        }
      ]
    },
    {
      "cell_type": "code",
      "source": [
        "# Ví dụ 2\n",
        "claim = \"@Linh ơi mày có biết k??? đợt rồi ng ta phát tiền hỗ trợ 1tr8 cho sinh viên khó khăn z đó 😮😮 :)))\"\n",
        "evidence = \"Ngày 15/4/2025, Chính phủ ban hành quyết định hỗ trợ 1,8 triệu đồng cho mỗi sinh viên có hoàn cảnh khó khăn.\"\n",
        "\n",
        "label, probabilities = predict_fact_checking(claim, evidence)\n",
        "\n",
        "print(f\"Claim: {claim}\")\n",
        "print(f\"Evidence: {evidence}\")\n",
        "print(f\"Predicted label: {label}\")\n",
        "print(f\"Probabilities (SUPPORTS, REFUTES): {probabilities}\")"
      ],
      "metadata": {
        "colab": {
          "base_uri": "https://localhost:8080/"
        },
        "id": "y9fCUz6jA0M4",
        "outputId": "0ea33d48-2447-430e-fac5-16281177964b"
      },
      "execution_count": 8,
      "outputs": [
        {
          "output_type": "stream",
          "name": "stdout",
          "text": [
            "Claim: @Linh ơi mày có biết k??? đợt rồi ng ta phát tiền hỗ trợ 1tr8 cho sinh viên khó khăn z đó 😮😮 :)))\n",
            "Evidence: Ngày 15/4/2025, Chính phủ ban hành quyết định hỗ trợ 1,8 triệu đồng cho mỗi sinh viên có hoàn cảnh khó khăn.\n",
            "Predicted label: SUPPORTS\n",
            "Probabilities (SUPPORTS, REFUTES): [0.9993643164634705, 0.0006357369711622596]\n"
          ]
        }
      ]
    },
    {
      "cell_type": "code",
      "source": [
        "# Ví dụ 3\n",
        "claim = \"Uống nước tăng lực bò húc có hại cho sức khỏe nếu uống lâu dài đó, @Hoài An ơi, m bớt uống lại đi:(((\"\n",
        "evidence = \"Các nghiên cứu cho thấy sử dụng nước tăng lực bò húc thường xuyên có thể dẫn đến các vấn đề tim mạch và huyết áp do hàm lượng caffeine và đường cao.\"\n",
        "\n",
        "label, probabilities = predict_fact_checking(claim, evidence)\n",
        "\n",
        "print(f\"Claim: {claim}\")\n",
        "print(f\"Evidence: {evidence}\")\n",
        "print(f\"Predicted label: {label}\")\n",
        "print(f\"Probabilities (SUPPORTS, REFUTES): {probabilities}\")"
      ],
      "metadata": {
        "colab": {
          "base_uri": "https://localhost:8080/"
        },
        "id": "FPUGI7EKvyKy",
        "outputId": "a35eff15-5370-4fe0-d60f-ac99ac5c5683"
      },
      "execution_count": 9,
      "outputs": [
        {
          "output_type": "stream",
          "name": "stdout",
          "text": [
            "Claim: Uống nước tăng lực bò húc có hại cho sức khỏe nếu uống lâu dài đó, @Hoài An ơi, m bớt uống lại đi:(((\n",
            "Evidence: Các nghiên cứu cho thấy sử dụng nước tăng lực bò húc thường xuyên có thể dẫn đến các vấn đề tim mạch và huyết áp do hàm lượng caffeine và đường cao.\n",
            "Predicted label: SUPPORTS\n",
            "Probabilities (SUPPORTS, REFUTES): [0.9997296929359436, 0.0002703361096791923]\n"
          ]
        }
      ]
    }
  ]
}